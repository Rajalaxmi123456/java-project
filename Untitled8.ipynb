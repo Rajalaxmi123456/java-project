{
  "cells": [
    {
      "cell_type": "markdown",
      "metadata": {
        "id": "view-in-github",
        "colab_type": "text"
      },
      "source": [
        "<a href=\"https://colab.research.google.com/github/Rajalaxmi123456/rajalaxmi/blob/main/Untitled8.ipynb\" target=\"_parent\"><img src=\"https://colab.research.google.com/assets/colab-badge.svg\" alt=\"Open In Colab\"/></a>"
      ]
    },
    {
      "cell_type": "code",
      "execution_count": null,
      "metadata": {
        "colab": {
          "base_uri": "https://localhost:8080/"
        },
        "id": "Nc5wRW-7b-aU",
        "outputId": "3fb5a4b6-b414-413f-ceb3-6e7a3e0c9d7f"
      },
      "outputs": [
        {
          "name": "stdout",
          "output_type": "stream",
          "text": [
            "this is my second class\n",
            "10\n",
            "hello\n"
          ]
        }
      ],
      "source": [
        "class myclass:\n",
        "  \"this is my second class\"\n",
        "  a=10\n",
        "  def func_1():\n",
        "   print(\"hello\")\n",
        "print(myclass.__doc__)\n",
        "print(myclass.a)\n",
        "myclass.func_1()\n",
        "\n",
        "\n"
      ]
    },
    {
      "cell_type": "code",
      "execution_count": null,
      "metadata": {
        "colab": {
          "background_save": true
        },
        "id": "YPLISqO6gmK6"
      },
      "outputs": [],
      "source": [
        "class Rev:\n",
        "  def rev();\n",
        "    s=0\n",
        "    n= int(input(\"n=?\"))\n",
        "    while(n!=0):\n",
        "      r=n%10\n",
        "      s=s*10+r\n",
        "      n=n/10\n",
        "    print(\"reverse no=\",s)\n",
        "Rev.rev()"
      ]
    },
    {
      "cell_type": "code",
      "execution_count": null,
      "metadata": {
        "colab": {
          "background_save": true
        },
        "id": "33sfA6Dpk9nE",
        "outputId": "ba5148b3-72a3-4776-d563-1f73a9acd075"
      },
      "outputs": [
        {
          "ename": "SyntaxError",
          "evalue": "ignored",
          "output_type": "error",
          "traceback": [
            "\u001b[0;36m  File \u001b[0;32m\"<ipython-input-9-fb468286718b>\"\u001b[0;36m, line \u001b[0;32m6\u001b[0m\n\u001b[0;31m    obj=my class()\u001b[0m\n\u001b[0m           ^\u001b[0m\n\u001b[0;31mSyntaxError\u001b[0m\u001b[0;31m:\u001b[0m invalid syntax\n"
          ]
        }
      ],
      "source": []
    }
  ],
  "metadata": {
    "colab": {
      "provenance": [],
      "authorship_tag": "ABX9TyOfqIdgeGH1jU1MgmPIlCJx",
      "include_colab_link": true
    },
    "kernelspec": {
      "display_name": "Python 3",
      "name": "python3"
    },
    "language_info": {
      "name": "python"
    }
  },
  "nbformat": 4,
  "nbformat_minor": 0
}